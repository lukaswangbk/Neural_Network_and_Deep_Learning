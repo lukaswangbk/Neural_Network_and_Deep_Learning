{
 "cells": [
  {
   "cell_type": "markdown",
   "metadata": {
    "id": "raLwbLFaRvOR"
   },
   "source": [
    "### **Columbia University**\n",
    "### **ECBM E4040 Neural Networks and Deep Learning. Fall 2021.**"
   ]
  },
  {
   "cell_type": "markdown",
   "metadata": {
    "id": "JJCMCx6ISZZw"
   },
   "source": [
    "## **Task 2: RNN application -- Tweet Sentiment Analysis**"
   ]
  },
  {
   "cell_type": "markdown",
   "metadata": {
    "id": "u8wjQhNtSffW"
   },
   "source": [
    "In this task, you are going to classify the sentiment in tweets into positive and negative using an LSTM model. The code to load the data and see its characteristics has been provided to you. \n",
    "\n",
    "In the first task, you will encode the data using using one hot encoding and train an LSTM network to classify the sentiment. In the second task, you will replace the one hot encoding with an embedding layer and train another LSTM model. You will then extract the trained embeddings and visualize the word embeddings in 2 dimensions by using TSNE for dimenssionality redution. "
   ]
  },
  {
   "cell_type": "code",
   "execution_count": 1,
   "metadata": {
    "id": "UZ_G4XdfP7GK"
   },
   "outputs": [],
   "source": [
    "# Import modules\n",
    "from __future__ import print_function\n",
    "import tensorflow as tf\n",
    "import numpy as np\n",
    "import json\n",
    "import time\n",
    "import matplotlib.pyplot as plt\n",
    "import pickle\n",
    "\n",
    "%matplotlib inline\n",
    "\n",
    "%load_ext autoreload\n",
    "%autoreload 2"
   ]
  },
  {
   "cell_type": "markdown",
   "metadata": {
    "id": "6MjTYqMoN8fh"
   },
   "source": [
    "## Load Data\n"
   ]
  },
  {
   "cell_type": "code",
   "execution_count": 2,
   "metadata": {
    "colab": {
     "base_uri": "https://localhost:8080/"
    },
    "id": "F55EwI6RQl1A",
    "outputId": "1e087591-3dad-4471-97df-d9af9214dddb"
   },
   "outputs": [
    {
     "name": "stdout",
     "output_type": "stream",
     "text": [
      "size of original train set: 60000\n",
      "size of original test set: 20000\n",
      "****************************************************************************************************\n",
      "size of train set: 60000, #positive: 30055, #negative: 29945\n",
      "size of test set: 1000, #positive: 510, #negative: 490\n",
      "['it', 'will', 'help', 'relieve', 'your', 'stress', 'padtoken', 'padtoken', 'padtoken', 'padtoken', 'padtoken', 'padtoken', 'padtoken', 'padtoken', 'padtoken', 'padtoken', 'padtoken', 'padtoken', 'padtoken', 'padtoken']\n",
      "sentiment: positive\n"
     ]
    }
   ],
   "source": [
    "with open(\"./tweets_data/vocabulary.pkl\", \"rb\") as f:\n",
    "    vocabulary = pickle.load(f)\n",
    "\n",
    "# load our data and separate it into tweets and labels\n",
    "train_data = json.load(open('tweets_data/trainTweets_preprocessed.json', 'r'))\n",
    "train_data = list(map(lambda row:(np.array(row[0],dtype=np.int32),str(row[1])),train_data))\n",
    "train_tweets = np.array([t[0] for t in train_data])\n",
    "train_labels = np.array([int(t[1]) for t in train_data])\n",
    "\n",
    "test_data = json.load(open('tweets_data/testTweets_preprocessed.json', 'r'))\n",
    "test_data = list(map(lambda row:(np.array(row[0],dtype=np.int32),str(row[1])),test_data))\n",
    "test_tweets = np.array([t[0] for t in test_data])\n",
    "test_labels = np.array([int(t[1]) for t in test_data])\n",
    "\n",
    "print(\"size of original train set: {}\".format(len(train_tweets)))\n",
    "print(\"size of original test set: {}\".format(len(test_tweets)))\n",
    "\n",
    "# only select first 1000 test sample for test\n",
    "test_tweets = test_tweets[:1000]\n",
    "test_labels = test_labels[:1000]\n",
    "\n",
    "print(\"*\"*100)\n",
    "print(\"size of train set: {}, #positive: {}, #negative: {}\".format(len(train_tweets), np.sum(train_labels), len(train_tweets)-np.sum(train_labels)))\n",
    "print(\"size of test set: {}, #positive: {}, #negative: {}\".format(len(test_tweets), np.sum(test_labels), len(test_tweets)-np.sum(test_labels)))\n",
    "\n",
    "# show text of the idx-th train tweet\n",
    "# The 'padtoken' is used to ensure each tweet has the same length\n",
    "idx = 100\n",
    "train_text = [vocabulary[x] for x in train_tweets[idx]]\n",
    "print(train_text)\n",
    "sentiment_label = [\"negative\", \"positive\"]\n",
    "print(\"sentiment: {}\".format(sentiment_label[train_labels[idx]]))"
   ]
  },
  {
   "cell_type": "markdown",
   "metadata": {
    "id": "dmjy9sPDOCnY"
   },
   "source": [
    "## **Part 1 LSTM Encoder**\n",
    "\n",
    "**TODO**: Create a single-layer LSTM network to classify tweets. Use one hot encoding to represent each word in the tweet. Set LSTM units to 100. Use Adam optimizer and set batch size to 64.\n",
    "\n",
    "https://www.tensorflow.org/api_docs/python/tf/keras/layers/LSTM\n",
    "\n",
    "With these settings, what accuracy could you get? You can try to change some stuff in the network to see if you could get a better accuracy (this is optional). \n",
    "\n",
    "(tf.one_hot and Keras functional API may be useful)."
   ]
  },
  {
   "cell_type": "code",
   "execution_count": 5,
   "metadata": {
    "id": "-Mx6WgMBVI3T"
   },
   "outputs": [
    {
     "name": "stdout",
     "output_type": "stream",
     "text": [
      "Model: \"sequential_1\"\n",
      "_________________________________________________________________\n",
      "Layer (type)                 Output Shape              Param #   \n",
      "=================================================================\n",
      "lstm_1 (LSTM)                (None, 20, 100)           440400    \n",
      "_________________________________________________________________\n",
      "dense_1 (Dense)              (None, 20, 1)             101       \n",
      "=================================================================\n",
      "Total params: 440,501\n",
      "Trainable params: 440,501\n",
      "Non-trainable params: 0\n",
      "_________________________________________________________________\n",
      "Epoch 1/15\n",
      "938/938 [==============================] - 14s 14ms/step - loss: 0.6148 - accuracy: 0.6522 - val_loss: 0.5798 - val_accuracy: 0.6921\n",
      "Epoch 2/15\n",
      "938/938 [==============================] - 12s 13ms/step - loss: 0.5543 - accuracy: 0.7108 - val_loss: 0.5633 - val_accuracy: 0.6953\n",
      "Epoch 3/15\n",
      "938/938 [==============================] - 12s 13ms/step - loss: 0.5453 - accuracy: 0.7130 - val_loss: 0.5582 - val_accuracy: 0.6987\n",
      "Epoch 4/15\n",
      "938/938 [==============================] - 12s 13ms/step - loss: 0.5389 - accuracy: 0.7173 - val_loss: 0.5654 - val_accuracy: 0.7025\n",
      "Epoch 5/15\n",
      "938/938 [==============================] - 12s 13ms/step - loss: 0.5323 - accuracy: 0.7191 - val_loss: 0.5656 - val_accuracy: 0.7016\n",
      "Epoch 6/15\n",
      "938/938 [==============================] - 12s 13ms/step - loss: 0.5197 - accuracy: 0.7275 - val_loss: 0.5642 - val_accuracy: 0.7036\n",
      "Epoch 7/15\n",
      "938/938 [==============================] - 12s 13ms/step - loss: 0.5155 - accuracy: 0.7303 - val_loss: 0.5713 - val_accuracy: 0.6998\n",
      "Epoch 8/15\n",
      "938/938 [==============================] - 12s 13ms/step - loss: 0.5093 - accuracy: 0.7346 - val_loss: 0.5823 - val_accuracy: 0.7008\n",
      "Epoch 9/15\n",
      "938/938 [==============================] - 12s 13ms/step - loss: 0.5036 - accuracy: 0.7384 - val_loss: 0.5752 - val_accuracy: 0.7050\n",
      "Epoch 10/15\n",
      "938/938 [==============================] - 12s 13ms/step - loss: 0.4924 - accuracy: 0.7453 - val_loss: 0.5856 - val_accuracy: 0.7082\n",
      "Epoch 11/15\n",
      "938/938 [==============================] - 12s 13ms/step - loss: 0.4791 - accuracy: 0.7531 - val_loss: 0.6024 - val_accuracy: 0.6964\n",
      "Epoch 12/15\n",
      "938/938 [==============================] - 12s 13ms/step - loss: 0.4746 - accuracy: 0.7550 - val_loss: 0.6100 - val_accuracy: 0.7008\n",
      "Epoch 13/15\n",
      "938/938 [==============================] - 12s 13ms/step - loss: 0.4635 - accuracy: 0.7611 - val_loss: 0.6232 - val_accuracy: 0.6899\n",
      "Epoch 14/15\n",
      "938/938 [==============================] - 12s 13ms/step - loss: 0.4568 - accuracy: 0.7652 - val_loss: 0.6390 - val_accuracy: 0.6916\n",
      "Epoch 15/15\n",
      "938/938 [==============================] - 12s 13ms/step - loss: 0.4430 - accuracy: 0.7748 - val_loss: 0.6559 - val_accuracy: 0.6855\n"
     ]
    }
   ],
   "source": [
    "###################################################\n",
    "# TODO: Create a single-layer LSTM network.       #\n",
    "#                                                 #\n",
    "###################################################\n",
    "\n",
    "train_tweets_onehot = tf.one_hot(train_tweets, depth=1000)\n",
    "test_tweets_onehot = tf.one_hot(test_tweets, depth=1000)\n",
    "\n",
    "model = tf.keras.Sequential()\n",
    "model.add(tf.keras.layers.LSTM(100, input_shape=(20, 1000), return_sequences=True))\n",
    "model.add(tf.keras.layers.Dense(1, activation='sigmoid'))\n",
    "model.summary()\n",
    "\n",
    "opt = tf.keras.optimizers.Adam(learning_rate=0.001)\n",
    "\n",
    "model.compile(\n",
    "    loss=tf.keras.losses.BinaryCrossentropy(),\n",
    "    optimizer=opt,\n",
    "    metrics=[\"accuracy\"],\n",
    ")\n",
    "history_LSTM = model.fit(train_tweets_onehot, train_labels, batch_size=64, epochs=15, validation_data=(test_tweets_onehot, test_labels)) \n",
    "\n",
    "###################################################\n",
    "# END TODO                                        #\n",
    "###################################################"
   ]
  },
  {
   "cell_type": "markdown",
   "metadata": {
    "id": "IBiLRGc7RL-g"
   },
   "source": [
    "## **Part 2: Embedding Lookup layer**\n",
    "\n",
    "**Define an embedding layer**\n",
    "\n",
    "It's not hard to imagine in the previous practices, the input we fed in are very sparse because each word was represented as a one-hot vector. This makes it difficult for the network to understand what story the input data is telling.\n",
    "\n",
    "Word embedding: instead of using a one-hot vector to represent each word, we can add an word embedding matrix in which each word is represented as a low-dimensional vector. Note that this representation is not sparse any more, because we're working in a continuous vector space now. Words that share similar/related semantic meaning should be 'close to each other' in this vector space (we could define a distance measure to estimate the closeness).\n",
    "\n",
    "**TODO**: Define a similar model as above with one change. Use an Embedding layer instead of one hot embedding. Also, write a custom training loop to train the model instead of using model.fit(). Writing a custom loop gives you complete control over how the model is trained. Refer to the link below.\n",
    "\n",
    "https://www.tensorflow.org/guide/keras/writing_a_training_loop_from_scratch\n",
    "\n",
    "Report loss and accuracy for training and validation after each epoch. Also, display the loss value after every 400 steps. \n",
    "\n",
    "Do you see any difference in accuracy? What about training time? What inference can you draw?\n"
   ]
  },
  {
   "cell_type": "markdown",
   "metadata": {
    "id": "FiDynRCc_mqN"
   },
   "source": [
    "Solution: Both the training and validation accuracy is higher compared with One-Hot encoding. So embedding output (more dense) is better for improving the accuracy in this probelm setting The training time is 145.74s per epoch which is slower. However this comparsion is unfair as the embedding traning is implemented using for loop (even without @tf.function to speed up the computation)."
   ]
  },
  {
   "cell_type": "code",
   "execution_count": 4,
   "metadata": {
    "id": "x2mkQlVMVUny"
   },
   "outputs": [
    {
     "name": "stdout",
     "output_type": "stream",
     "text": [
      "Model: \"sequential_1\"\n",
      "_________________________________________________________________\n",
      "Layer (type)                 Output Shape              Param #   \n",
      "=================================================================\n",
      "embedding_1 (Embedding)      (None, None, 1000)        7597000   \n",
      "_________________________________________________________________\n",
      "lstm_1 (LSTM)                (None, 100)               440400    \n",
      "_________________________________________________________________\n",
      "dense_1 (Dense)              (None, 1)                 101       \n",
      "=================================================================\n",
      "Total params: 8,037,501\n",
      "Trainable params: 8,037,501\n",
      "Non-trainable params: 0\n",
      "_________________________________________________________________\n",
      "\n",
      "Start of epoch 0\n",
      "Training loss (for one batch) at step 0: 0.7018\n",
      "Seen so far: 64 samples\n",
      "Training loss (for one batch) at step 400: 0.6931\n",
      "Seen so far: 25664 samples\n",
      "Training loss (for one batch) at step 800: 0.6931\n",
      "Seen so far: 51264 samples\n",
      "Training acc over epoch: 0.4993\n",
      "Validation acc: 0.4879\n",
      "Time taken: 143.22s\n",
      "\n",
      "Start of epoch 1\n",
      "Training loss (for one batch) at step 0: 0.6931\n",
      "Seen so far: 64 samples\n",
      "Training loss (for one batch) at step 400: 0.6860\n",
      "Seen so far: 25664 samples\n",
      "Training loss (for one batch) at step 800: 0.6335\n",
      "Seen so far: 51264 samples\n",
      "Training acc over epoch: 0.5619\n",
      "Validation acc: 0.7332\n",
      "Time taken: 148.32s\n",
      "\n",
      "Start of epoch 2\n",
      "Training loss (for one batch) at step 0: 0.6219\n",
      "Seen so far: 64 samples\n",
      "Training loss (for one batch) at step 400: 0.5524\n",
      "Seen so far: 25664 samples\n",
      "Training loss (for one batch) at step 800: 0.6162\n",
      "Seen so far: 51264 samples\n",
      "Training acc over epoch: 0.7497\n",
      "Validation acc: 0.7309\n",
      "Time taken: 147.45s\n",
      "\n",
      "Start of epoch 3\n",
      "Training loss (for one batch) at step 0: 0.6003\n",
      "Seen so far: 64 samples\n",
      "Training loss (for one batch) at step 400: 0.5607\n",
      "Seen so far: 25664 samples\n",
      "Training loss (for one batch) at step 800: 0.6051\n",
      "Seen so far: 51264 samples\n",
      "Training acc over epoch: 0.7847\n",
      "Validation acc: 0.7311\n",
      "Time taken: 147.47s\n",
      "\n",
      "Start of epoch 4\n",
      "Training loss (for one batch) at step 0: 0.6195\n",
      "Seen so far: 64 samples\n",
      "Training loss (for one batch) at step 400: 0.5799\n",
      "Seen so far: 25664 samples\n",
      "Training loss (for one batch) at step 800: 0.5570\n",
      "Seen so far: 51264 samples\n",
      "Training acc over epoch: 0.8026\n",
      "Validation acc: 0.7236\n",
      "Time taken: 146.77s\n",
      "\n",
      "Start of epoch 5\n",
      "Training loss (for one batch) at step 0: 0.6128\n",
      "Seen so far: 64 samples\n",
      "Training loss (for one batch) at step 400: 0.5533\n",
      "Seen so far: 25664 samples\n",
      "Training loss (for one batch) at step 800: 0.6044\n",
      "Seen so far: 51264 samples\n",
      "Training acc over epoch: 0.8139\n",
      "Validation acc: 0.7494\n",
      "Time taken: 148.07s\n",
      "\n",
      "Start of epoch 6\n",
      "Training loss (for one batch) at step 0: 0.5510\n",
      "Seen so far: 64 samples\n",
      "Training loss (for one batch) at step 400: 0.5957\n",
      "Seen so far: 25664 samples\n",
      "Training loss (for one batch) at step 800: 0.5499\n",
      "Seen so far: 51264 samples\n",
      "Training acc over epoch: 0.8234\n",
      "Validation acc: 0.7273\n",
      "Time taken: 147.74s\n",
      "\n",
      "Start of epoch 7\n",
      "Training loss (for one batch) at step 0: 0.6061\n",
      "Seen so far: 64 samples\n",
      "Training loss (for one batch) at step 400: 0.6165\n",
      "Seen so far: 25664 samples\n",
      "Training loss (for one batch) at step 800: 0.6251\n",
      "Seen so far: 51264 samples\n",
      "Training acc over epoch: 0.8307\n",
      "Validation acc: 0.7330\n",
      "Time taken: 147.35s\n",
      "\n",
      "Start of epoch 8\n",
      "Training loss (for one batch) at step 0: 0.6157\n",
      "Seen so far: 64 samples\n",
      "Training loss (for one batch) at step 400: 0.5856\n",
      "Seen so far: 25664 samples\n",
      "Training loss (for one batch) at step 800: 0.5714\n",
      "Seen so far: 51264 samples\n",
      "Training acc over epoch: 0.8364\n",
      "Validation acc: 0.7248\n",
      "Time taken: 148.13s\n",
      "\n",
      "Start of epoch 9\n",
      "Training loss (for one batch) at step 0: 0.5984\n",
      "Seen so far: 64 samples\n",
      "Training loss (for one batch) at step 400: 0.5492\n",
      "Seen so far: 25664 samples\n",
      "Training loss (for one batch) at step 800: 0.5742\n",
      "Seen so far: 51264 samples\n",
      "Training acc over epoch: 0.8407\n",
      "Validation acc: 0.7434\n",
      "Time taken: 149.98s\n",
      "\n",
      "Start of epoch 10\n",
      "Training loss (for one batch) at step 0: 0.5906\n",
      "Seen so far: 64 samples\n",
      "Training loss (for one batch) at step 400: 0.5805\n",
      "Seen so far: 25664 samples\n",
      "Training loss (for one batch) at step 800: 0.5786\n",
      "Seen so far: 51264 samples\n",
      "Training acc over epoch: 0.8439\n",
      "Validation acc: 0.7449\n",
      "Time taken: 148.86s\n",
      "\n",
      "Start of epoch 11\n",
      "Training loss (for one batch) at step 0: 0.5915\n",
      "Seen so far: 64 samples\n",
      "Training loss (for one batch) at step 400: 0.5763\n",
      "Seen so far: 25664 samples\n",
      "Training loss (for one batch) at step 800: 0.5464\n",
      "Seen so far: 51264 samples\n",
      "Training acc over epoch: 0.8489\n",
      "Validation acc: 0.7367\n",
      "Time taken: 148.71s\n",
      "\n",
      "Start of epoch 12\n",
      "Training loss (for one batch) at step 0: 0.5166\n",
      "Seen so far: 64 samples\n",
      "Training loss (for one batch) at step 400: 0.5640\n",
      "Seen so far: 25664 samples\n",
      "Training loss (for one batch) at step 800: 0.5714\n",
      "Seen so far: 51264 samples\n",
      "Training acc over epoch: 0.8522\n",
      "Validation acc: 0.7346\n",
      "Time taken: 144.55s\n",
      "\n",
      "Start of epoch 13\n",
      "Training loss (for one batch) at step 0: 0.5605\n",
      "Seen so far: 64 samples\n",
      "Training loss (for one batch) at step 400: 0.5312\n",
      "Seen so far: 25664 samples\n",
      "Training loss (for one batch) at step 800: 0.5036\n",
      "Seen so far: 51264 samples\n",
      "Training acc over epoch: 0.8564\n",
      "Validation acc: 0.7355\n",
      "Time taken: 143.44s\n",
      "\n",
      "Start of epoch 14\n",
      "Training loss (for one batch) at step 0: 0.6046\n",
      "Seen so far: 64 samples\n",
      "Training loss (for one batch) at step 400: 0.5701\n",
      "Seen so far: 25664 samples\n",
      "Training loss (for one batch) at step 800: 0.5778\n",
      "Seen so far: 51264 samples\n",
      "Training acc over epoch: 0.8555\n",
      "Validation acc: 0.7463\n",
      "Time taken: 145.74s\n"
     ]
    }
   ],
   "source": [
    "###################################################\n",
    "# TODO: Create a single-layer LSTM network        #\n",
    "#       using Embedding layer                     #\n",
    "###################################################\n",
    "\n",
    "model = tf.keras.Sequential() \n",
    "model.add(tf.keras.layers.Embedding(input_dim=len(vocabulary), output_dim=1000))\n",
    "model.add(tf.keras.layers.LSTM(100))\n",
    "model.add(tf.keras.layers.Dense(1, activation='sigmoid'))\n",
    "model.summary()\n",
    "\n",
    "batch_size = 64\n",
    "optimizer = tf.keras.optimizers.Adam(learning_rate=0.001)\n",
    "loss_fn = tf.keras.losses.BinaryCrossentropy(from_logits=True)\n",
    "train_acc_metric = tf.keras.metrics.BinaryAccuracy()\n",
    "val_acc_metric = tf.keras.metrics.BinaryAccuracy()\n",
    "train_dataset = tf.data.Dataset.from_tensor_slices((train_tweets, train_labels))\n",
    "train_dataset = train_dataset.shuffle(buffer_size=1024).batch(batch_size)\n",
    "val_dataset = tf.data.Dataset.from_tensor_slices((test_tweets, test_labels))\n",
    "val_dataset = val_dataset.batch(batch_size)\n",
    "\n",
    "import time\n",
    "epochs = 15\n",
    "for epoch in range(epochs):\n",
    "    print(\"\\nStart of epoch %d\" % (epoch,))\n",
    "    start_time = time.time()\n",
    "\n",
    "    for step, (x_batch_train, y_batch_train) in enumerate(train_dataset):\n",
    "        with tf.GradientTape() as tape:\n",
    "            logits = model(x_batch_train, training=True)\n",
    "            loss_value = loss_fn(y_batch_train, logits)\n",
    "        grads = tape.gradient(loss_value, model.trainable_weights)\n",
    "        optimizer.apply_gradients(zip(grads, model.trainable_weights))\n",
    "\n",
    "        train_acc_metric.update_state(y_batch_train, logits)\n",
    "\n",
    "        if step % 400 == 0:\n",
    "            print(\n",
    "                \"Training loss (for one batch) at step %d: %.4f\"\n",
    "                % (step, float(loss_value))\n",
    "            )\n",
    "            print(\"Seen so far: %d samples\" % ((step + 1) * batch_size))\n",
    "\n",
    "    train_acc = train_acc_metric.result()\n",
    "    print(\"Training acc over epoch: %.4f\" % (float(train_acc),))\n",
    "\n",
    "    train_acc_metric.reset_states()\n",
    "\n",
    "    for x_batch_val, y_batch_val in val_dataset:\n",
    "        val_logits = model(x_batch_val, training=False)\n",
    "        val_acc_metric.update_state(y_batch_val, val_logits)\n",
    "    val_acc = val_acc_metric.result()\n",
    "    val_acc_metric.reset_states()\n",
    "    print(\"Validation acc: %.4f\" % (float(val_acc),))\n",
    "    print(\"Time taken: %.2fs\" % (time.time() - start_time))\n",
    "\n",
    "###################################################\n",
    "# END TODO                                        #\n",
    "###################################################"
   ]
  },
  {
   "cell_type": "markdown",
   "metadata": {
    "id": "o9WYOKJtUwe5"
   },
   "source": [
    "## **TODO:**  **Visualize word vectors via tSNE**\n",
    "\n",
    "First, you need to retrieve embedding matrix from the network. Then use tSNE to reduce each low-dimensional word vector into a 2D vector.\n",
    "\n",
    "And then, you should visualize some interesting word pairs in 2D panel. You may find scatter function in matplotlib.pyplot useful.\n",
    "\n",
    "Hint: You can use TSNE tool provided in scikit-learn. And if you encounter dead kernel problem caused by \"Intel MKL FATAL ERROR: Cannot load libmkl_avx.so or libmkl_def.so\", please reinstall scikit-learn without MKL, ie., conda install nomkl numpy scipy scikit-learn numexpr.\n",
    "\n",
    "Here we provide some word pairs for you, like female-male or country-capital. And you can observe that these word-pair will look parallel with each other in a 2D tSNE panel. And you can find some other words and explore their relationship.\n",
    "\n",
    "The result for female-male pairs should look like, and you will observe that king-men and queen-women are parallel to each other in a 2D panel."
   ]
  },
  {
   "cell_type": "code",
   "execution_count": 23,
   "metadata": {
    "id": "aVZwhreIVlk0"
   },
   "outputs": [],
   "source": [
    "###################################################\n",
    "# TODO: Visualize word vectors using TSNE.        #\n",
    "#                                                 #\n",
    "###################################################\n",
    "\n",
    "female_male = [\"men\", \"women\", \"king\", \"queen\"]\n",
    "country_capital = [\"spain\", \"madrid\", \"italy\", \"rome\", \"japan\", \"tokyo\"]\n",
    "\n",
    "embeddings = model.layers[0].get_weights()[0]\n",
    "vocab2idx = {}\n",
    "for idx, word in enumerate(vocabulary):\n",
    "    vocab2idx[word] = idx\n",
    "def getIndex(word):\n",
    "    return embeddings[vocab2idx[word],:]\n",
    "\n",
    "###################################################\n",
    "# END TODO                                        #\n",
    "###################################################"
   ]
  },
  {
   "cell_type": "code",
   "execution_count": 24,
   "metadata": {},
   "outputs": [
    {
     "data": {
      "image/png": "[encoded data removed]",
      "text/plain": [
       "<Figure size 432x288 with 1 Axes>"
      ]
     },
     "metadata": {
      "needs_background": "light"
     },
     "output_type": "display_data"
    }
   ],
   "source": [
    "# Get idea from https://matplotlib.org/stable/gallery/text_labels_and_annotations/annotation_demo.html\n",
    "from sklearn.manifold import TSNE\n",
    "import matplotlib.pyplot\n",
    "\n",
    "bbox_args = dict(boxstyle='round', pad=0.5, fc='yellow', alpha=0.5)\n",
    "arrow_args = dict(arrowstyle=\"->\", connectionstyle='arc3')\n",
    "\n",
    "X = np.array([embeddings[vocab2idx[\"man\"],:], embeddings[vocab2idx[\"women\"],:],\n",
    "              embeddings[vocab2idx[\"king\"],:], embeddings[vocab2idx[\"queen\"],:]])\n",
    "\n",
    "tsne_gender = TSNE(n_components=2, random_state=0).fit_transform(X)\n",
    "\n",
    "matplotlib.pyplot.scatter(tsne_gender[:,0], tsne_gender[:,1])\n",
    "labels = [\"man\", \"women\", \"king\", \"queen\"]\n",
    "for label, x, y in zip(labels, tsne_gender[:, 0], tsne_gender[:, 1]):\n",
    "    plt.annotate(\n",
    "        label,\n",
    "        xy=(x, y), xytext=(-20, 20),\n",
    "        textcoords='offset points', ha='left', va='bottom',\n",
    "        bbox=bbox_args,\n",
    "        arrowprops=arrow_args)\n",
    "matplotlib.pyplot.show()"
   ]
  },
  {
   "cell_type": "code",
   "execution_count": 25,
   "metadata": {},
   "outputs": [
    {
     "data": {
      "image/png": "[encoded data removed]",
      "text/plain": [
       "<Figure size 432x288 with 1 Axes>"
      ]
     },
     "metadata": {
      "needs_background": "light"
     },
     "output_type": "display_data"
    }
   ],
   "source": [
    "X = np.array([embeddings[vocab2idx[\"spain\"],:], embeddings[vocab2idx[\"madrid\"],:],\n",
    "              embeddings[vocab2idx[\"italy\"],:], embeddings[vocab2idx[\"rome\"],:],\n",
    "              embeddings[vocab2idx[\"japan\"],:], embeddings[vocab2idx[\"tokyo\"],:]])\n",
    "\n",
    "tsne_capital = TSNE(n_components=2).fit_transform(X)\n",
    "\n",
    "matplotlib.pyplot.scatter(tsne_capital[:,0], tsne_capital[:,1])\n",
    "labels = [\"spain\", \"madrid\", \"italy\", \"rome\", \"japan\", \"tokyo\"]\n",
    "for label, x, y in zip(labels, tsne_capital[:, 0], tsne_capital[:, 1]):\n",
    "    plt.annotate(\n",
    "        label,\n",
    "        xy=(x, y), xytext=(-20, 20),\n",
    "        textcoords='offset points', ha='left', va='bottom',\n",
    "        bbox=bbox_args,\n",
    "        arrowprops=arrow_args)\n",
    "matplotlib.pyplot.show()"
   ]
  },
  {
   "cell_type": "code",
   "execution_count": null,
   "metadata": {},
   "outputs": [],
   "source": []
  }
 ],
 "metadata": {
  "accelerator": "GPU",
  "colab": {
   "name": "Assignment_3_task_2_final.ipynb",
   "provenance": []
  },
  "kernelspec": {
   "display_name": "Python 3",
   "language": "python",
   "name": "python3"
  },
  "language_info": {
   "codemirror_mode": {
    "name": "ipython",
    "version": 3
   },
   "file_extension": ".py",
   "mimetype": "text/x-python",
   "name": "python",
   "nbconvert_exporter": "python",
   "pygments_lexer": "ipython3",
   "version": "3.6.9"
  }
 },
 "nbformat": 4,
 "nbformat_minor": 4
}
