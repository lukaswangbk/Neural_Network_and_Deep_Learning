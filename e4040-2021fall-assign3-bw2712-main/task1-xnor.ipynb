{
 "cells": [
  {
   "cell_type": "markdown",
   "metadata": {},
   "source": [
    "## Columbia University\n",
    "### ECBM E4040 Neural Networks and Deep Learning. Fall 2021."
   ]
  },
  {
   "cell_type": "markdown",
   "metadata": {},
   "source": [
    "# Task 1: XNOR"
   ]
  },
  {
   "cell_type": "code",
   "execution_count": 1,
   "metadata": {},
   "outputs": [
    {
     "name": "stdout",
     "output_type": "stream",
     "text": [
      "2.4.0\n"
     ]
    }
   ],
   "source": [
    "# Import modules\n",
    "from __future__ import print_function\n",
    "import tensorflow as tf\n",
    "\n",
    "physical_devices = tf.config.list_physical_devices('GPU')\n",
    "tf.config.experimental.set_memory_growth(physical_devices[0], enable=True)\n",
    "\n",
    "import numpy as np\n",
    "from numpy.random import shuffle\n",
    "import time\n",
    "import matplotlib.pyplot as plt\n",
    "\n",
    "# Plot configurations\n",
    "%matplotlib inline\n",
    "\n",
    "# Notebook auto reloads code. (Ref: http://stackoverflow.com/questions/1907993/autoreload-of-modules-in-ipython)\n",
    "%load_ext autoreload\n",
    "%autoreload 2\n",
    "print(tf.__version__)"
   ]
  },
  {
   "cell_type": "markdown",
   "metadata": {},
   "source": [
    "##  Part 1: Backpropagation through time (BPTT)"
   ]
  },
  {
   "cell_type": "markdown",
   "metadata": {},
   "source": [
    "**Question:** Consider a simple RNN network shown in the following figure, where _wx, wh, b1, w, b2_ are the scalar parameters of the network. The loss function is the **mean squared error (MSE)**. Given input _(x1, x2) = (-1, 2)_, ground truth _(g1, g2) = (0, 1), h0 = 0, and (wx, wh, b1, w, b2) = (3, 1, 2, -1, 1)_, **compute _(dwx, dwh, db1, dw, db2)_**, which are the gradients of loss with repect to 5 parameters _(wx, wh, b1, w, b2)_.\n",
    "\n",
    "![bptt](./img/bptt2.jpg)"
   ]
  },
  {
   "cell_type": "markdown",
   "metadata": {},
   "source": [
    "<span style=\"color:red\">TODO:</span>\n",
    "\n",
    "Answer the above question. \n",
    "\n",
    "* Show all of your derivations and the computational process.\n",
    "* Use LATEX to edit the equations (Jupyter notebook can recognize the basic LATEX syntax). Alternatively, you can edit equations in some other environment and then paste the screenshot of the equations here.\n"
   ]
  },
  {
   "cell_type": "markdown",
   "metadata": {},
   "source": [
    "<span style=\"color:red\">Solution:</span>\n",
    "\n",
    "\n",
    "**Forward**<br>\n",
    "$h_1 = \\sigma(w_x * x_1 + w_h * h_0 + b_1) = 0.2689414213699951$.<br>\n",
    "$y_1 = \\sigma(w*h_1+b_2) = 0.6750375273768237$. <br>\n",
    "$h_2 = \\sigma(w_x * x_2 + w_h * h_1 + b_1) = 0.9997437091806152$.<br>\n",
    "$y_2 = \\sigma(w*h_2+b_2) = 0.5000640727044955$\n",
    "\n",
    "**Derivatives**<br>\n",
    "$\\sigma' = \\sigma (1-\\sigma)$. <br>\n",
    "$Loss = \\frac{1}{2}[(y_1-g_1)^2+(y_2-g_2)^2]$<br>\n",
    "$\\frac{\\partial Loss}{\\partial w_x} = \\frac{\\partial Loss}{\\partial y_1}\\frac{\\partial y_1}{\\partial h_1}\\frac{\\partial h_1}{\\partial w_x}+\\frac{\\partial Loss}{\\partial y_2}\\frac{\\partial y_2}{\\partial h_2}\\frac{\\partial h_2}{\\partial w_x}+\\frac{\\partial Loss}{\\partial y_2}\\frac{\\partial y_2}{\\partial h_2}\\frac{\\partial h_2}{\\partial h_1}\\frac{\\partial h_1}{\\partial w_x}=(y_1-g_1)y_1(1-y_1)w*h_1(1-h_1)x_1+(y_2-g_2)y_2(1-y_2)w*h_2(1-h_2)(x_2+w_h*h_1(1-h_1)x_1)=0.029171553400083334$\n",
    "\n",
    "$\\frac{\\partial Loss}{\\partial w_h} = \\frac{\\partial Loss}{\\partial y_1}\\frac{\\partial y_1}{\\partial h_1}\\frac{\\partial h_1}{\\partial w_h}+\\frac{\\partial Loss}{\\partial y_2}\\frac{\\partial y_2}{\\partial h_2}\\frac{\\partial h_2}{\\partial w_h}+\\frac{\\partial Loss}{\\partial y_2}\\frac{\\partial y_2}{\\partial h_2}\\frac{\\partial h_2}{\\partial h_1}\\frac{\\partial h_1}{\\partial w_h}=(y_1-g_1)y_1(1-y_1)w*h_1(1-h_1)h_0 + (y_2-g_2)y_2(1-y_2)w*h_2(1-h_2)(h_1+w_h*h_1(1-h_1)h_0)=8.612590032788873e-06$\n",
    "\n",
    "$\\frac{\\partial Loss}{\\partial w} = \\frac{\\partial Loss}{\\partial y_1}\\frac{\\partial y_1}{\\partial w}+\\frac{\\partial Loss}{\\partial y_2}\\frac{\\partial y_2}{\\partial w}=(y_1-g_1)y_1(1-y_1)h_1+(y_2-g_2)y_2(1-y_2)h_2=-0.08512777681556812$\n",
    "\n",
    "$\\frac{\\partial Loss}{\\partial b_2}=\\frac{\\partial Loss}{\\partial y_1}\\frac{\\partial y_1}{\\partial b_2}+\\frac{\\partial Loss}{\\partial y_2}\\frac{\\partial y_2}{\\partial b_1}=(y_1-g_1)y_1(1-y_1) + (y_2-g_2)y_2(1-y_2)=0.023093510510468193$\n",
    "\n",
    "$\\frac{\\partial Loss}{\\partial b_1}= \\frac{\\partial Loss}{\\partial y_1}\\frac{\\partial y_1}{\\partial h_1}\\frac{\\partial h_1}{\\partial b_1}+\\frac{\\partial Loss}{\\partial y_2}\\frac{\\partial y_2}{\\partial h_2}\\frac{\\partial h_2}{\\partial b_1}+\\frac{\\partial Loss}{\\partial y_2}\\frac{\\partial y_2}{\\partial h_2}\\frac{\\partial h_2}{\\partial h_1}\\frac{\\partial h_1}{\\partial b_1}=(y_1-g_1)y_1(1-y_1)w*h_1(1-h_1) + (y_2-g_2)y_2(1-y_2)w*h_2(1-h_2)(1+w_h*h_1(1-h_1))=-0.029075481289038675$"
   ]
  },
  {
   "cell_type": "code",
   "execution_count": 2,
   "metadata": {},
   "outputs": [
    {
     "name": "stdout",
     "output_type": "stream",
     "text": [
      "Verified by tensorflow (TODO compare values with your hand-written calculations):\n",
      "dw = -0.0851, db2 = 0.0231, dwx = 0.0292, dwh = 0.0000, db1 = -0.0291\n"
     ]
    }
   ],
   "source": [
    "# use tensorflow to verify the answer.\n",
    "with tf.GradientTape() as G:\n",
    "    w = tf.Variable(-1.0)\n",
    "    b2 = tf.Variable(1.0)\n",
    "    wx = tf.Variable(3.0)\n",
    "    wh = tf.Variable(1.0)\n",
    "    b1 = tf.Variable(2.0)\n",
    "\n",
    "    h0 = tf.Variable(0.0)\n",
    "    x = tf.Variable((-1.0,2.0))\n",
    "    g = tf.Variable((0.0, 1.0))\n",
    "\n",
    "    y = []\n",
    "    h1 = tf.sigmoid(wx*x[0] + wh*h0 + b1)\n",
    "    y.append(tf.sigmoid(w*h1 + b2))\n",
    "    h2 = tf.sigmoid(wx*x[1] + wh*h1 + b1)\n",
    "    y.append(tf.sigmoid(w*h2 + b2))\n",
    "\n",
    "    loss = 0.5*(tf.square(g[0]-y[0]) + tf.square(g[1]-y[1]))\n",
    "\n",
    "    dw_t, db2_t, dwx_t, dwh_t, db1_t = G.gradient(loss, [w, b2, wx, wh, b1])\n",
    "    \n",
    "\n",
    "print(\"Verified by tensorflow (TODO compare values with your hand-written calculations):\")\n",
    "print(\"dw = {:.4f}, db2 = {:.4f}, dwx = {:.4f}, dwh = {:.4f}, db1 = {:.4f}\".format(dw_t, db2_t, dwx_t, dwh_t, db1_t))"
   ]
  },
  {
   "cell_type": "markdown",
   "metadata": {},
   "source": [
    "## Part 2: Use TensorFlow modules to create XNOR network\n",
    "\n",
    "In this part, you need to build and train an XNOR network that can learn the XNOR function. It is a very simple implementation of RNN and will give you an idea how RNN is built and how to train it."
   ]
  },
  {
   "cell_type": "markdown",
   "metadata": {},
   "source": [
    "### XNOR network\n",
    "\n",
    "XNOR network can learn the XNOR ($\\odot$) function\n",
    "\n",
    "As shown in the figure below, and for instance, if input $(x_0, x_1, x_2, x_3, x_4, x_5, x_6, x_7)$=(0,0,1,1,1,1,1,0), then output $(y_1, y_2, y_3, y_4, y_5, y_6, y_7, y_8)$=(1,1,0,1,0,1,0,0). That is, $y_n = x_0\\odot x_1 \\odot ... \\odot x_{n-1}\\odot x_{n}$\n",
    "\n",
    "![xnor_net](./img/xnor.png)"
   ]
  },
  {
   "cell_type": "markdown",
   "metadata": {},
   "source": [
    "### Create a data set\n",
    "This function provides a way to generate the data which is needed for the training process. You should utilize it when building your training function for the GRU. Read the source code for more information."
   ]
  },
  {
   "cell_type": "code",
   "execution_count": 3,
   "metadata": {},
   "outputs": [],
   "source": [
    "from utils.xnor.dataset import create_xnor_dataset"
   ]
  },
  {
   "cell_type": "code",
   "execution_count": 4,
   "metadata": {},
   "outputs": [
    {
     "data": {
      "text/plain": [
       "(array([[[0],\n",
       "         [0],\n",
       "         [1],\n",
       "         [1],\n",
       "         [1],\n",
       "         [0],\n",
       "         [0],\n",
       "         [0]]]),\n",
       " array([[0, 0, 1, 0, 1, 1, 1, 1]]))"
      ]
     },
     "execution_count": 4,
     "metadata": {},
     "output_type": "execute_result"
    }
   ],
   "source": [
    "create_xnor_dataset(1)"
   ]
  },
  {
   "cell_type": "markdown",
   "metadata": {},
   "source": [
    "### Build a network using a TensorFlow LSTMCell and GRUCell\n",
    "In this section, you are asked to build a XNOR net using a TensorFlow LSTMCell and a GRUCell. In TensorFlow 2, these two cells are supported by Keras. Please check online documents below.\n",
    "\n",
    "Reference: \n",
    "1. [TensorFlow(Keras): Working with RNNs](https://keras.io/guides/working_with_rnns/)\n",
    "2. [TensorFlow: Recurrent Neural Networks (RNN) with Keras](https://www.tensorflow.org/guide/keras/rnn)\n",
    "3. [TensorFlow LSTM cell](https://www.tensorflow.org/api_docs/python/tf/keras/layers/LSTM)\n",
    "4. [TensorFlow GRU cell](https://www.tensorflow.org/api_docs/python/tf/keras/layers/GRU)\n",
    "5. [TensorFlow: Sequential Model](https://www.tensorflow.org/guide/keras/sequential_model)\n"
   ]
  },
  {
   "cell_type": "markdown",
   "metadata": {},
   "source": [
    "<span style=\"color:red\">TODO:</span>\n",
    "Use TensorFlow to build and train your XNOR net. The dataset is already provided. You will do the following:\n",
    "- Learn how to use **tf.keras.layers.LSTM** and **tf.keras.layers.GRU** in TensorFlow(Keras). \n",
    "- Choose appropriate parameters to build a model (Sequential Model in Keras is suggested). \n",
    "- Compile your model with appropriate loss function, optimizer, metrics, etc.\n",
    "- Train your model and see the loss history.\n",
    "\n",
    "Tips: \n",
    "1. Make sure that the shape of your data is corrrect after every step.\n",
    "2. Choose your loss function according to your network design.\n",
    "3. Choose 'accuracy' as your metrics when compiling your model.\n",
    "4. Make sure that names of history for the network with LSTMCell and GRUCell (which you used while training) are the same as the ones in the plotting functions.\n",
    "4. Feel free to ask TAs if you get stuck somewhere."
   ]
  },
  {
   "cell_type": "markdown",
   "metadata": {},
   "source": [
    "### Build a network with LSTM cell"
   ]
  },
  {
   "cell_type": "code",
   "execution_count": 5,
   "metadata": {
    "pycharm": {
     "is_executing": true
    }
   },
   "outputs": [],
   "source": [
    "in_data, out_data = create_xnor_dataset(1000) # create a dataset with a batch size of 1000"
   ]
  },
  {
   "cell_type": "code",
   "execution_count": 10,
   "metadata": {
    "pycharm": {
     "is_executing": true
    }
   },
   "outputs": [
    {
     "name": "stdout",
     "output_type": "stream",
     "text": [
      "Model: \"sequential_4\"\n",
      "_________________________________________________________________\n",
      "Layer (type)                 Output Shape              Param #   \n",
      "=================================================================\n",
      "lstm_4 (LSTM)                (None, 8, 200)            161600    \n",
      "_________________________________________________________________\n",
      "dense_4 (Dense)              (None, 8, 1)              201       \n",
      "=================================================================\n",
      "Total params: 161,801\n",
      "Trainable params: 161,801\n",
      "Non-trainable params: 0\n",
      "_________________________________________________________________\n",
      "Epoch 1/15\n",
      "16/16 [==============================] - 2s 7ms/step - loss: 0.6910 - accuracy: 0.5954\n",
      "Epoch 2/15\n",
      "16/16 [==============================] - 0s 7ms/step - loss: 0.6878 - accuracy: 0.5549\n",
      "Epoch 3/15\n",
      "16/16 [==============================] - 0s 7ms/step - loss: 0.6657 - accuracy: 0.5906\n",
      "Epoch 4/15\n",
      "16/16 [==============================] - 0s 7ms/step - loss: 0.5655 - accuracy: 0.6714\n",
      "Epoch 5/15\n",
      "16/16 [==============================] - 0s 6ms/step - loss: 0.4367 - accuracy: 0.8001\n",
      "Epoch 6/15\n",
      "16/16 [==============================] - 0s 7ms/step - loss: 0.0821 - accuracy: 0.9990\n",
      "Epoch 7/15\n",
      "16/16 [==============================] - 0s 7ms/step - loss: 0.1792 - accuracy: 0.9505\n",
      "Epoch 8/15\n",
      "16/16 [==============================] - 0s 6ms/step - loss: 0.0508 - accuracy: 0.9992\n",
      "Epoch 9/15\n",
      "16/16 [==============================] - 0s 6ms/step - loss: 0.0189 - accuracy: 1.0000\n",
      "Epoch 10/15\n",
      "16/16 [==============================] - 0s 6ms/step - loss: 0.0097 - accuracy: 1.0000\n",
      "Epoch 11/15\n",
      "16/16 [==============================] - 0s 7ms/step - loss: 0.0063 - accuracy: 1.0000\n",
      "Epoch 12/15\n",
      "16/16 [==============================] - 0s 7ms/step - loss: 0.0046 - accuracy: 1.0000\n",
      "Epoch 13/15\n",
      "16/16 [==============================] - 0s 7ms/step - loss: 0.0036 - accuracy: 1.0000\n",
      "Epoch 14/15\n",
      "16/16 [==============================] - 0s 6ms/step - loss: 0.0029 - accuracy: 1.0000\n",
      "Epoch 15/15\n",
      "16/16 [==============================] - 0s 6ms/step - loss: 0.0023 - accuracy: 1.0000\n"
     ]
    }
   ],
   "source": [
    "###################################################\n",
    "# TODO: build a network with LSTM cell and train it.#\n",
    "#                                                 #\n",
    "###################################################\n",
    "\n",
    "model = tf.keras.Sequential() \n",
    "model.add(tf.keras.layers.LSTM(200, input_shape=(8, 1), return_sequences=True))\n",
    "model.add(tf.keras.layers.Dense(1, activation='sigmoid'))\n",
    "model.summary()\n",
    "\n",
    "opt = tf.keras.optimizers.Adam(learning_rate=0.01)\n",
    "\n",
    "model.compile(\n",
    "    loss=tf.keras.losses.BinaryCrossentropy(),\n",
    "    optimizer=opt,\n",
    "    metrics=[\"accuracy\"]\n",
    ")\n",
    "history_LSTM = model.fit(in_data, out_data, batch_size=64, epochs=15) \n",
    "\n",
    "###################################################\n",
    "# END TODO                                        #\n",
    "###################################################"
   ]
  },
  {
   "cell_type": "markdown",
   "metadata": {},
   "source": [
    "#### Hint for creating a model with LSTM cells\n",
    "```\n",
    "model = tf.keras.Sequential() \n",
    "model.add(# insert layer 1)\n",
    "model.add(# insert layer 2) \n",
    "model.add(# insert more layers) \n",
    "model.add(# insert output layer)\n",
    "\n",
    "model.summary() \n",
    "model.compile(loss=#choose your loss function,\n",
    "              optimizer=#choose your optimizer with learning rate,\n",
    "              metrics=['accuracy']) \n",
    "history_LSTM = model.fit(in_data, out_data, batch_size=64, epochs=15) \n",
    "```"
   ]
  },
  {
   "cell_type": "markdown",
   "metadata": {},
   "source": [
    "### Build a network with GRU cell"
   ]
  },
  {
   "cell_type": "code",
   "execution_count": 12,
   "metadata": {},
   "outputs": [],
   "source": [
    "in_data, out_data = create_xnor_dataset(1000) # create a dataset with batch size of 1000"
   ]
  },
  {
   "cell_type": "code",
   "execution_count": 13,
   "metadata": {},
   "outputs": [
    {
     "name": "stdout",
     "output_type": "stream",
     "text": [
      "Model: \"sequential_6\"\n",
      "_________________________________________________________________\n",
      "Layer (type)                 Output Shape              Param #   \n",
      "=================================================================\n",
      "gru_1 (GRU)                  (None, 8, 100)            30900     \n",
      "_________________________________________________________________\n",
      "dense_6 (Dense)              (None, 8, 1)              101       \n",
      "=================================================================\n",
      "Total params: 31,001\n",
      "Trainable params: 31,001\n",
      "Non-trainable params: 0\n",
      "_________________________________________________________________\n",
      "Epoch 1/15\n",
      "16/16 [==============================] - 2s 5ms/step - loss: 0.6894 - accuracy: 0.5654\n",
      "Epoch 2/15\n",
      "16/16 [==============================] - 0s 5ms/step - loss: 0.6696 - accuracy: 0.5706\n",
      "Epoch 3/15\n",
      "16/16 [==============================] - 0s 5ms/step - loss: 0.5939 - accuracy: 0.6553\n",
      "Epoch 4/15\n",
      "16/16 [==============================] - 0s 5ms/step - loss: 0.4994 - accuracy: 0.6985\n",
      "Epoch 5/15\n",
      "16/16 [==============================] - 0s 5ms/step - loss: 0.3566 - accuracy: 0.8529\n",
      "Epoch 6/15\n",
      "16/16 [==============================] - 0s 6ms/step - loss: 0.0977 - accuracy: 0.9869\n",
      "Epoch 7/15\n",
      "16/16 [==============================] - 0s 5ms/step - loss: 0.0165 - accuracy: 0.9984\n",
      "Epoch 8/15\n",
      "16/16 [==============================] - 0s 5ms/step - loss: 0.0048 - accuracy: 1.0000\n",
      "Epoch 9/15\n",
      "16/16 [==============================] - 0s 5ms/step - loss: 0.0028 - accuracy: 1.0000\n",
      "Epoch 10/15\n",
      "16/16 [==============================] - 0s 5ms/step - loss: 0.0021 - accuracy: 1.0000\n",
      "Epoch 11/15\n",
      "16/16 [==============================] - 0s 5ms/step - loss: 0.0016 - accuracy: 1.0000\n",
      "Epoch 12/15\n",
      "16/16 [==============================] - 0s 5ms/step - loss: 0.0014 - accuracy: 1.0000\n",
      "Epoch 13/15\n",
      "16/16 [==============================] - 0s 5ms/step - loss: 0.0012 - accuracy: 1.0000\n",
      "Epoch 14/15\n",
      "16/16 [==============================] - 0s 5ms/step - loss: 0.0011 - accuracy: 1.0000\n",
      "Epoch 15/15\n",
      "16/16 [==============================] - 0s 5ms/step - loss: 9.0049e-04 - accuracy: 1.0000\n"
     ]
    }
   ],
   "source": [
    "###################################################\n",
    "# TODO: build a model with GRU cell and train it. #\n",
    "#                                                 #\n",
    "###################################################\n",
    "\n",
    "model = tf.keras.Sequential()\n",
    "model.add(tf.keras.layers.GRU(100, input_shape=(8, 1), return_sequences=True))\n",
    "model.add(tf.keras.layers.Dense(1, activation='sigmoid'))\n",
    "model.summary()\n",
    "\n",
    "opt = tf.keras.optimizers.Adam(learning_rate=0.01)\n",
    "\n",
    "model.compile(\n",
    "    loss=tf.keras.losses.BinaryCrossentropy(),\n",
    "    optimizer=opt,\n",
    "    metrics=[\"accuracy\"],\n",
    ")\n",
    "history_GRU = model.fit(in_data, out_data, batch_size=64, epochs=15) \n",
    "\n",
    "###################################################\n",
    "# END TODO                                        #\n",
    "###################################################"
   ]
  },
  {
   "cell_type": "markdown",
   "metadata": {},
   "source": [
    "#### Hint for creating a model with GRU cell\n",
    "```\n",
    "model = tf.keras.Sequential()\n",
    "model.add(# insert layer 1)\n",
    "model.add(# insert layer 2)\n",
    "model.add(# insert more layers)\n",
    "model.add(# insert output layer)\n",
    "\n",
    "model.summary()\n",
    "model.compile(loss=#choose your loss function,\n",
    "              optimizer=#choose your optimizer with learning rate,\n",
    "              metrics=['accuracy'])\n",
    "history_GRU = model.fit(in_data, out_data, batch_size=64, epochs=15)\n",
    "```"
   ]
  },
  {
   "cell_type": "markdown",
   "metadata": {},
   "source": [
    "### Visualize loss and accuracy"
   ]
  },
  {
   "cell_type": "code",
   "execution_count": 14,
   "metadata": {},
   "outputs": [
    {
     "data": {
      "image/png": "[encoded data removed]",
      "text/plain": [
       "<Figure size 432x288 with 1 Axes>"
      ]
     },
     "metadata": {
      "needs_background": "light"
     },
     "output_type": "display_data"
    }
   ],
   "source": [
    "plt.plot(history_LSTM.history['loss'], label='LSTM')\n",
    "plt.plot(history_GRU.history['loss'], label='GRU')\n",
    "plt.title('LSTM/GRU loss')\n",
    "plt.ylabel('loss')\n",
    "plt.xlabel('No. epoch')\n",
    "plt.legend(loc=\"upper left\")\n",
    "plt.show()"
   ]
  },
  {
   "cell_type": "code",
   "execution_count": 15,
   "metadata": {},
   "outputs": [
    {
     "data": {
      "image/png": "[encoded data removed]",
      "text/plain": [
       "<Figure size 432x288 with 1 Axes>"
      ]
     },
     "metadata": {
      "needs_background": "light"
     },
     "output_type": "display_data"
    }
   ],
   "source": [
    "plt.plot(history_LSTM.history['accuracy'], label='LSTM')\n",
    "plt.plot(history_GRU.history['accuracy'], label='GRU')\n",
    "plt.title('LSTM/GRU accuracy')\n",
    "plt.ylabel('accuracy')\n",
    "plt.xlabel('No. epoch')\n",
    "plt.legend(loc=\"upper left\")\n",
    "plt.show()"
   ]
  },
  {
   "cell_type": "markdown",
   "metadata": {},
   "source": [
    "<span style=\"color:red\">__TODO:__</span> Answer the question:"
   ]
  },
  {
   "cell_type": "markdown",
   "metadata": {},
   "source": [
    "Which part of this task have you been struggling with most of the  time? Describe how you resolved it."
   ]
  },
  {
   "cell_type": "markdown",
   "metadata": {},
   "source": [
    "<span style=\"color:red\">__SOLUTION:__</span>"
   ]
  },
  {
   "cell_type": "markdown",
   "metadata": {},
   "source": [
    "The hardest part is to find correct loss function. The detaied is in the next question."
   ]
  },
  {
   "cell_type": "markdown",
   "metadata": {},
   "source": [
    "<span style=\"color:red\">__TODO:__</span> Answer the question:"
   ]
  },
  {
   "cell_type": "markdown",
   "metadata": {},
   "source": [
    "Which loss function did you use? Why?"
   ]
  },
  {
   "cell_type": "markdown",
   "metadata": {},
   "source": [
    "<span style=\"color:red\">__SOLUTION:__</span>"
   ]
  },
  {
   "cell_type": "markdown",
   "metadata": {},
   "source": [
    "Initially i use SparseCategoricalCrossentropy as loss function which will raise error. After checking the document, the different between these two is the format of label. Here the input with \"one-hot-like\" shape so BinaryCrossentropy is adopted."
   ]
  },
  {
   "cell_type": "markdown",
   "metadata": {},
   "source": [
    "## Part 3 :  Build your own LSTMCell\n",
    "In this part, you need to build your own LSTM cell to achieve the LSTM functionality (including different types of gates that constitute the cell).\n",
    "\n",
    "You should refer to the materials on how the LSTM cell works  - with its cell states, activation functions and kernels. \n",
    "<br>Please see the course slides or the website https://colah.github.io/posts/2015-08-Understanding-LSTMs/.\n",
    "\n",
    "<span style=\"color:red\">TODO:</span> \n",
    "1. Complete the function **LSTM_step** in utils/xnor/LSTM_step.py;\n",
    "2. Verify the function by running the provided code.\n",
    "3. Use the same way (as described above) to build the model and to train it.\n"
   ]
  },
  {
   "cell_type": "code",
   "execution_count": 14,
   "metadata": {},
   "outputs": [
    {
     "name": "stdout",
     "output_type": "stream",
     "text": [
      "Simple verification:\n",
      "Is h correct? True\n",
      "Is c correct? True\n"
     ]
    }
   ],
   "source": [
    "from utils.xnor.LSTM_step import LSTM_step\n",
    "\n",
    "cell_inputs = np.ones((1,1))\n",
    "cell_states = [0.2*np.ones((1,64)), np.zeros((1,64))]\n",
    "kernel = 0.1*np.ones((1,256))\n",
    "recurrent_kernel = 0.1*np.ones((64,256))\n",
    "bias = np.zeros(256)\n",
    "\n",
    "h , [h,c] = LSTM_step(cell_inputs, cell_states, kernel, recurrent_kernel, bias)\n",
    "print('Simple verification:')\n",
    "print('Is h correct?', np.isclose(h.numpy()[0][0],0.48484358))\n",
    "print('Is c correct?', np.isclose(c.numpy()[0][0],0.70387213))"
   ]
  },
  {
   "cell_type": "code",
   "execution_count": 16,
   "metadata": {},
   "outputs": [],
   "source": [
    "in_data, out_data = create_xnor_dataset(1000)# create a dataset with a batch size of 1000"
   ]
  },
  {
   "cell_type": "code",
   "execution_count": 19,
   "metadata": {},
   "outputs": [
    {
     "name": "stdout",
     "output_type": "stream",
     "text": [
      "Model: \"sequential_8\"\n",
      "_________________________________________________________________\n",
      "Layer (type)                 Output Shape              Param #   \n",
      "=================================================================\n",
      "lstm_6 (LSTM)                (None, 8, 100)            40800     \n",
      "_________________________________________________________________\n",
      "dense_8 (Dense)              (None, 8, 1)              101       \n",
      "=================================================================\n",
      "Total params: 40,901\n",
      "Trainable params: 40,901\n",
      "Non-trainable params: 0\n",
      "_________________________________________________________________\n",
      "Epoch 1/15\n",
      "16/16 [==============================] - 2s 6ms/step - loss: 0.6947 - accuracy: 0.5561\n",
      "Epoch 2/15\n",
      "16/16 [==============================] - 0s 6ms/step - loss: 0.6856 - accuracy: 0.5698\n",
      "Epoch 3/15\n",
      "16/16 [==============================] - 0s 6ms/step - loss: 0.6701 - accuracy: 0.5643\n",
      "Epoch 4/15\n",
      "16/16 [==============================] - 0s 6ms/step - loss: 0.5916 - accuracy: 0.6179\n",
      "Epoch 5/15\n",
      "16/16 [==============================] - 0s 6ms/step - loss: 0.5074 - accuracy: 0.6813\n",
      "Epoch 6/15\n",
      "16/16 [==============================] - 0s 6ms/step - loss: 0.3112 - accuracy: 0.8890\n",
      "Epoch 7/15\n",
      "16/16 [==============================] - 0s 6ms/step - loss: 0.0428 - accuracy: 0.9997\n",
      "Epoch 8/15\n",
      "16/16 [==============================] - 0s 6ms/step - loss: 0.0084 - accuracy: 1.0000\n",
      "Epoch 9/15\n",
      "16/16 [==============================] - 0s 5ms/step - loss: 0.0035 - accuracy: 1.0000\n",
      "Epoch 10/15\n",
      "16/16 [==============================] - 0s 6ms/step - loss: 0.0022 - accuracy: 1.0000\n",
      "Epoch 11/15\n",
      "16/16 [==============================] - 0s 6ms/step - loss: 0.0016 - accuracy: 1.0000\n",
      "Epoch 12/15\n",
      "16/16 [==============================] - 0s 5ms/step - loss: 0.0013 - accuracy: 1.0000\n",
      "Epoch 13/15\n",
      "16/16 [==============================] - 0s 6ms/step - loss: 0.0011 - accuracy: 1.0000\n",
      "Epoch 14/15\n",
      "16/16 [==============================] - 0s 6ms/step - loss: 8.9053e-04 - accuracy: 1.0000\n",
      "Epoch 15/15\n",
      "16/16 [==============================] - 0s 6ms/step - loss: 7.6001e-04 - accuracy: 1.0000\n"
     ]
    }
   ],
   "source": [
    "###################################################\n",
    "# TODO: build a model with LSTM cell and train it.#\n",
    "#                                                 #\n",
    "###################################################\n",
    "\n",
    "model = tf.keras.Sequential() \n",
    "model.add(tf.keras.layers.LSTM(100, input_shape=(8, 1), return_sequences=True))\n",
    "model.add(tf.keras.layers.Dense(1, activation='sigmoid'))\n",
    "model.summary()\n",
    "\n",
    "opt = tf.keras.optimizers.Adam(learning_rate=0.01)\n",
    "\n",
    "model.compile(\n",
    "    loss=tf.keras.losses.BinaryCrossentropy(),\n",
    "    optimizer=opt,\n",
    "    metrics=[\"accuracy\"]\n",
    ")\n",
    "history = model.fit(in_data, out_data, batch_size=64, epochs=15) \n",
    "\n",
    "###################################################\n",
    "# END TODO                                        #\n",
    "###################################################"
   ]
  },
  {
   "cell_type": "markdown",
   "metadata": {},
   "source": [
    "#### Hint for building a model with LSTM cell\n",
    "```\n",
    "model = tf.keras.Sequential()\n",
    "model.add(# insert layer 1)\n",
    "model.add(# insert layer 2)\n",
    "model.add(# insert more layers)\n",
    "model.add(# insert output layer)\n",
    "\n",
    "model.summary()\n",
    "model.compile(loss=#choose your loss function,\n",
    "              optimizer=#choose your optimizer with learning rate,\n",
    "              metrics=['accuracy'])\n",
    "history = model.fit(in_data, out_data, batch_size=64, epochs=15)\n",
    "```"
   ]
  },
  {
   "cell_type": "markdown",
   "metadata": {},
   "source": [
    "### Visualize loss and accuracy"
   ]
  },
  {
   "cell_type": "code",
   "execution_count": 20,
   "metadata": {},
   "outputs": [
    {
     "data": {
      "image/png": "[encoded data removed]",
      "text/plain": [
       "<Figure size 432x288 with 1 Axes>"
      ]
     },
     "metadata": {
      "needs_background": "light"
     },
     "output_type": "display_data"
    }
   ],
   "source": [
    "plt.plot(history.history['loss'], label='loss')\n",
    "plt.plot(history.history['accuracy'], label='accuracy')\n",
    "plt.title('Training history')\n",
    "plt.ylabel('value')\n",
    "plt.xlabel('No. epoch')\n",
    "plt.legend(loc=\"upper left\")\n",
    "plt.show()"
   ]
  },
  {
   "cell_type": "code",
   "execution_count": null,
   "metadata": {},
   "outputs": [],
   "source": []
  }
 ],
 "metadata": {
  "kernelspec": {
   "display_name": "Python 3",
   "language": "python",
   "name": "python3"
  },
  "language_info": {
   "codemirror_mode": {
    "name": "ipython",
    "version": 3
   },
   "file_extension": ".py",
   "mimetype": "text/x-python",
   "name": "python",
   "nbconvert_exporter": "python",
   "pygments_lexer": "ipython3",
   "version": "3.6.9"
  }
 },
 "nbformat": 4,
 "nbformat_minor": 4
}
